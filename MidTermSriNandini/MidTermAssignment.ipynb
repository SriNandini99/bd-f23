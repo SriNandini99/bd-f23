{
 "cells": [
  {
   "attachments": {},
   "cell_type": "markdown",
   "metadata": {},
   "source": [
    "## Sri Nandini Ganisetty\n",
    "#### A report on community chat system extension to add new functionality to existing chat system that currently supports 75 million users. The users can include attached file with their messages. This proposed system keeps track userid, date, filetype and the file itself."
   ]
  },
  {
   "attachments": {},
   "cell_type": "markdown",
   "metadata": {},
   "source": [
    "#### Import packages"
   ]
  },
  {
   "cell_type": "code",
   "execution_count": 1,
   "metadata": {},
   "outputs": [],
   "source": [
    "import pandas as pd\n",
    "from cassandra.cluster import Cluster"
   ]
  },
  {
   "attachments": {},
   "cell_type": "markdown",
   "metadata": {},
   "source": [
    "### Create a session connection to Cassandra cluster"
   ]
  },
  {
   "cell_type": "code",
   "execution_count": 2,
   "metadata": {},
   "outputs": [],
   "source": [
    "clstr = Cluster()\n",
    "session = clstr.connect()"
   ]
  },
  {
   "attachments": {},
   "cell_type": "markdown",
   "metadata": {},
   "source": [
    "### Use session to 'talk' to cassandra"
   ]
  },
  {
   "cell_type": "code",
   "execution_count": 9,
   "metadata": {},
   "outputs": [
    {
     "data": {
      "text/plain": [
       "<cassandra.cluster.ResultSet at 0x7f747ff4eb90>"
      ]
     },
     "execution_count": 9,
     "metadata": {},
     "output_type": "execute_result"
    }
   ],
   "source": [
    "session.execute(\"DROP KEYSPACE IF EXISTS midtermpython\")"
   ]
  },
  {
   "cell_type": "code",
   "execution_count": 11,
   "metadata": {},
   "outputs": [
    {
     "name": "stdout",
     "output_type": "stream",
     "text": [
      "system\n",
      "system_auth\n",
      "system_distributed\n",
      "system_schema\n",
      "system_traces\n",
      "system_views\n",
      "system_virtual_schema\n",
      "w04\n"
     ]
    }
   ],
   "source": [
    "rows = session.execute(\"desc keyspaces\")\n",
    "for row in rows:\n",
    "    print(f\"{row[0]}\")"
   ]
  },
  {
   "cell_type": "code",
   "execution_count": 12,
   "metadata": {},
   "outputs": [
    {
     "data": {
      "text/plain": [
       "<cassandra.cluster.ResultSet at 0x7f7444bc9090>"
      ]
     },
     "execution_count": 12,
     "metadata": {},
     "output_type": "execute_result"
    }
   ],
   "source": [
    "session.execute(\"\"\"\n",
    "    CREATE KEYSPACE IF NOT EXISTS midtermpython WITH REPLICATION = {\n",
    "        'class':'SimpleStrategy', \n",
    "        'replication_factor':3\n",
    "    }\n",
    "\"\"\")"
   ]
  },
  {
   "cell_type": "code",
   "execution_count": 31,
   "metadata": {},
   "outputs": [
    {
     "name": "stdout",
     "output_type": "stream",
     "text": [
      "midtermpython\n",
      "system\n",
      "system_auth\n",
      "system_distributed\n",
      "system_schema\n",
      "system_traces\n",
      "system_views\n",
      "system_virtual_schema\n",
      "w04\n"
     ]
    }
   ],
   "source": [
    "rows = session.execute(\"desc keyspaces\")\n",
    "for row in rows:\n",
    "    print(f\"{row[0]}\")"
   ]
  },
  {
   "attachments": {},
   "cell_type": "markdown",
   "metadata": {},
   "source": [
    "Below we create a user table contains information such as user_id, date, fileType and file itself for the chat system extension. user_id is made the primary key"
   ]
  },
  {
   "cell_type": "code",
   "execution_count": 15,
   "metadata": {},
   "outputs": [
    {
     "data": {
      "text/plain": [
       "<cassandra.cluster.ResultSet at 0x7f7444b6a0e0>"
      ]
     },
     "execution_count": 15,
     "metadata": {},
     "output_type": "execute_result"
    }
   ],
   "source": [
    "session.execute(\"\"\"\n",
    "CREATE TABLE IF NOT EXISTS midtermpython.user ( \n",
    "    user_id INT, \n",
    "    date TEXT, \n",
    "    fileType TEXT, \n",
    "    file TEXT, \n",
    "    PRIMARY KEY(user_id)\n",
    ");\n",
    "\"\"\")"
   ]
  },
  {
   "attachments": {},
   "cell_type": "markdown",
   "metadata": {},
   "source": [
    "### Load data: Below we Load the data by reading it from csv file."
   ]
  },
  {
   "cell_type": "code",
   "execution_count": 16,
   "metadata": {},
   "outputs": [
    {
     "data": {
      "text/html": [
       "<div>\n",
       "<style scoped>\n",
       "    .dataframe tbody tr th:only-of-type {\n",
       "        vertical-align: middle;\n",
       "    }\n",
       "\n",
       "    .dataframe tbody tr th {\n",
       "        vertical-align: top;\n",
       "    }\n",
       "\n",
       "    .dataframe thead th {\n",
       "        text-align: right;\n",
       "    }\n",
       "</style>\n",
       "<table border=\"1\" class=\"dataframe\">\n",
       "  <thead>\n",
       "    <tr style=\"text-align: right;\">\n",
       "      <th></th>\n",
       "      <th>user_id</th>\n",
       "      <th>date</th>\n",
       "      <th>fileType</th>\n",
       "      <th>file</th>\n",
       "    </tr>\n",
       "  </thead>\n",
       "  <tbody>\n",
       "    <tr>\n",
       "      <th>0</th>\n",
       "      <td>1000</td>\n",
       "      <td>'10042023'</td>\n",
       "      <td>'Image'</td>\n",
       "      <td>'Test'</td>\n",
       "    </tr>\n",
       "    <tr>\n",
       "      <th>1</th>\n",
       "      <td>1001</td>\n",
       "      <td>'10012023'</td>\n",
       "      <td>'Image'</td>\n",
       "      <td>'Test'</td>\n",
       "    </tr>\n",
       "    <tr>\n",
       "      <th>2</th>\n",
       "      <td>1002</td>\n",
       "      <td>'10022023'</td>\n",
       "      <td>'video'</td>\n",
       "      <td>'Test'</td>\n",
       "    </tr>\n",
       "    <tr>\n",
       "      <th>3</th>\n",
       "      <td>1003</td>\n",
       "      <td>'10032022'</td>\n",
       "      <td>'video'</td>\n",
       "      <td>'Test'</td>\n",
       "    </tr>\n",
       "    <tr>\n",
       "      <th>4</th>\n",
       "      <td>1004</td>\n",
       "      <td>'01042023'</td>\n",
       "      <td>'video'</td>\n",
       "      <td>'Test'</td>\n",
       "    </tr>\n",
       "    <tr>\n",
       "      <th>5</th>\n",
       "      <td>1005</td>\n",
       "      <td>'11042021'</td>\n",
       "      <td>'Image'</td>\n",
       "      <td>'Test'</td>\n",
       "    </tr>\n",
       "    <tr>\n",
       "      <th>6</th>\n",
       "      <td>1006</td>\n",
       "      <td>'19042021'</td>\n",
       "      <td>'Image'</td>\n",
       "      <td>'Test'</td>\n",
       "    </tr>\n",
       "    <tr>\n",
       "      <th>7</th>\n",
       "      <td>1007</td>\n",
       "      <td>'10042017'</td>\n",
       "      <td>'file'</td>\n",
       "      <td>'Test'</td>\n",
       "    </tr>\n",
       "    <tr>\n",
       "      <th>8</th>\n",
       "      <td>1008</td>\n",
       "      <td>'10062023'</td>\n",
       "      <td>'file'</td>\n",
       "      <td>'Test'</td>\n",
       "    </tr>\n",
       "    <tr>\n",
       "      <th>9</th>\n",
       "      <td>1009</td>\n",
       "      <td>'10072023'</td>\n",
       "      <td>'file'</td>\n",
       "      <td>'Test'</td>\n",
       "    </tr>\n",
       "    <tr>\n",
       "      <th>10</th>\n",
       "      <td>1010</td>\n",
       "      <td>'10112023'</td>\n",
       "      <td>'file'</td>\n",
       "      <td>'Test'</td>\n",
       "    </tr>\n",
       "    <tr>\n",
       "      <th>11</th>\n",
       "      <td>1011</td>\n",
       "      <td>'10032023'</td>\n",
       "      <td>'Image'</td>\n",
       "      <td>'Test'</td>\n",
       "    </tr>\n",
       "  </tbody>\n",
       "</table>\n",
       "</div>"
      ],
      "text/plain": [
       "    user_id        date fileType     file\n",
       "0      1000  '10042023'  'Image'   'Test'\n",
       "1      1001  '10012023'  'Image'   'Test'\n",
       "2      1002  '10022023'  'video'   'Test'\n",
       "3      1003  '10032022'  'video'   'Test'\n",
       "4      1004  '01042023'  'video'   'Test'\n",
       "5      1005  '11042021'  'Image'   'Test'\n",
       "6      1006  '19042021'  'Image'   'Test'\n",
       "7      1007  '10042017'   'file'   'Test'\n",
       "8      1008  '10062023'   'file'   'Test'\n",
       "9      1009  '10072023'   'file'   'Test'\n",
       "10     1010  '10112023'   'file'   'Test'\n",
       "11     1011  '10032023'  'Image'   'Test'"
      ]
     },
     "execution_count": 16,
     "metadata": {},
     "output_type": "execute_result"
    }
   ],
   "source": [
    "df = pd.read_csv('data.csv')\n",
    "df"
   ]
  },
  {
   "attachments": {},
   "cell_type": "markdown",
   "metadata": {},
   "source": [
    "#### Below we can view all the records that are inserted into our database"
   ]
  },
  {
   "cell_type": "code",
   "execution_count": 17,
   "metadata": {},
   "outputs": [
    {
     "name": "stdout",
     "output_type": "stream",
     "text": [
      "user_id = 1000, date ='10042023', fileType = 'Image', file =  'Test'\n",
      "user_id = 1001, date ='10012023', fileType = 'Image', file = 'Test'\n",
      "user_id = 1002, date ='10022023', fileType = 'video', file = 'Test'\n",
      "user_id = 1003, date ='10032022', fileType = 'video', file = 'Test'\n",
      "user_id = 1004, date ='01042023', fileType = 'video', file = 'Test'\n",
      "user_id = 1005, date ='11042021', fileType = 'Image', file = 'Test'\n",
      "user_id = 1006, date ='19042021', fileType = 'Image', file = 'Test'\n",
      "user_id = 1007, date ='10042017', fileType = 'file', file = 'Test'\n",
      "user_id = 1008, date ='10062023', fileType = 'file', file = 'Test'\n",
      "user_id = 1009, date ='10072023', fileType = 'file', file = 'Test'\n",
      "user_id = 1010, date ='10112023', fileType = 'file', file = 'Test'\n",
      "user_id = 1011, date ='10032023', fileType = 'Image', file = 'Test'\n"
     ]
    }
   ],
   "source": [
    "for index, row in df.iterrows():\n",
    "    print(f\"user_id = {row.user_id}, date ={row.date}, fileType = {row.fileType}, file = {row.file}\")"
   ]
  },
  {
   "cell_type": "code",
   "execution_count": 18,
   "metadata": {},
   "outputs": [
    {
     "name": "stdout",
     "output_type": "stream",
     "text": [
      "\n",
      "        INSERT INTO midtermpython.user (user_id, date, fileType, file)     \n",
      "        VALUES (1000, '10042023', 'Image',  'Test');\n",
      "        \n",
      "\n",
      "        INSERT INTO midtermpython.user (user_id, date, fileType, file)     \n",
      "        VALUES (1001, '10012023', 'Image', 'Test');\n",
      "        \n",
      "\n",
      "        INSERT INTO midtermpython.user (user_id, date, fileType, file)     \n",
      "        VALUES (1002, '10022023', 'video', 'Test');\n",
      "        \n",
      "\n",
      "        INSERT INTO midtermpython.user (user_id, date, fileType, file)     \n",
      "        VALUES (1003, '10032022', 'video', 'Test');\n",
      "        \n",
      "\n",
      "        INSERT INTO midtermpython.user (user_id, date, fileType, file)     \n",
      "        VALUES (1004, '01042023', 'video', 'Test');\n",
      "        \n",
      "\n",
      "        INSERT INTO midtermpython.user (user_id, date, fileType, file)     \n",
      "        VALUES (1005, '11042021', 'Image', 'Test');\n",
      "        \n",
      "\n",
      "        INSERT INTO midtermpython.user (user_id, date, fileType, file)     \n",
      "        VALUES (1006, '19042021', 'Image', 'Test');\n",
      "        \n",
      "\n",
      "        INSERT INTO midtermpython.user (user_id, date, fileType, file)     \n",
      "        VALUES (1007, '10042017', 'file', 'Test');\n",
      "        \n",
      "\n",
      "        INSERT INTO midtermpython.user (user_id, date, fileType, file)     \n",
      "        VALUES (1008, '10062023', 'file', 'Test');\n",
      "        \n",
      "\n",
      "        INSERT INTO midtermpython.user (user_id, date, fileType, file)     \n",
      "        VALUES (1009, '10072023', 'file', 'Test');\n",
      "        \n",
      "\n",
      "        INSERT INTO midtermpython.user (user_id, date, fileType, file)     \n",
      "        VALUES (1010, '10112023', 'file', 'Test');\n",
      "        \n",
      "\n",
      "        INSERT INTO midtermpython.user (user_id, date, fileType, file)     \n",
      "        VALUES (1011, '10032023', 'Image', 'Test');\n",
      "        \n"
     ]
    }
   ],
   "source": [
    "for index, row in df.iterrows():\n",
    "    print(f\"\"\"\n",
    "        INSERT INTO midtermpython.user (user_id, date, fileType, file)     \n",
    "        VALUES ({row.user_id}, {row.date}, {row.fileType}, {row.file});\n",
    "        \"\"\"\n",
    "    )\n",
    "    session.execute(f\"\"\"\n",
    "        INSERT INTO midtermpython.user (user_id, date, fileType, file)     \n",
    "        VALUES ({row.user_id}, {row.date}, {row.fileType}, {row.file});\n",
    "        \"\"\"\n",
    "    )"
   ]
  },
  {
   "cell_type": "code",
   "execution_count": 19,
   "metadata": {},
   "outputs": [
    {
     "name": "stdout",
     "output_type": "stream",
     "text": [
      "user_id=1009, date=10072023, fileType=file, file=Test\n",
      "user_id=1006, date=19042021, fileType=Image, file=Test\n",
      "user_id=1008, date=10062023, fileType=file, file=Test\n",
      "user_id=1011, date=10032023, fileType=Image, file=Test\n",
      "user_id=1004, date=01042023, fileType=video, file=Test\n",
      "user_id=1007, date=10042017, fileType=file, file=Test\n",
      "user_id=1005, date=11042021, fileType=Image, file=Test\n",
      "user_id=1001, date=10012023, fileType=Image, file=Test\n",
      "user_id=1003, date=10032022, fileType=video, file=Test\n",
      "user_id=1002, date=10022023, fileType=video, file=Test\n",
      "user_id=1000, date=10042023, fileType=Image, file=Test\n",
      "user_id=1010, date=10112023, fileType=file, file=Test\n"
     ]
    }
   ],
   "source": [
    "rows = session.execute(\"select (user_id, date, fileType, file) from midtermpython.user\")\n",
    "for row in rows:\n",
    "    print(f\"user_id={row[0][0]}, date={row[0][1]}, fileType={row[0][2]}, file={row[0][3]}\")"
   ]
  },
  {
   "cell_type": "markdown",
   "metadata": {},
   "source": [
    "store_file functionality : Below is the functionality to store any incoming file and it's information. We can do the follow action by inserting the incoming record.\n",
    "After insertion, the inserted column is printed to view below"
   ]
  },
  {
   "cell_type": "code",
   "execution_count": 28,
   "metadata": {},
   "outputs": [
    {
     "name": "stdout",
     "output_type": "stream",
     "text": [
      "user_id=2000, date=09092023, fileType=Image, file=file\n",
      "user_id=1009, date=10072023, fileType=file, file=Test\n",
      "user_id=1006, date=19042021, fileType=Image, file=Test\n",
      "user_id=1008, date=10062023, fileType=file, file=Test\n",
      "user_id=1011, date=10032023, fileType=Image, file=Test\n",
      "user_id=1004, date=01042023, fileType=video, file=Test\n",
      "user_id=1007, date=10042017, fileType=file, file=Test\n",
      "user_id=1005, date=11042021, fileType=Image, file=Test\n",
      "user_id=1001, date=10012023, fileType=Image, file=Test\n",
      "user_id=2000, date=09092023, fileType=Image, file=file\n",
      "user_id=1003, date=10032022, fileType=video, file=Test\n",
      "user_id=1002, date=10022023, fileType=video, file=Test\n",
      "user_id=1010, date=10112023, fileType=file, file=Test\n"
     ]
    }
   ],
   "source": [
    "#insert one record\n",
    "session.execute(f\"\"\"\n",
    "        INSERT INTO midtermpython.user (user_id, date, fileType, file)    \n",
    "        VALUES (2000,'09092023', 'Image', 'file');\n",
    "        \"\"\"\n",
    ")\n",
    "#view inserted record\n",
    "rows = session.execute(\"select (user_id, date, fileType, file) from midtermpython.user WHERE user_id = 2000\")\n",
    "for row in rows:\n",
    "    print(f\"user_id={row[0][0]}, date={row[0][1]}, fileType={row[0][2]}, file={row[0][3]}\")\n",
    "\n",
    "rows = session.execute(\"select (user_id, date, fileType, file) from midtermpython.user\")\n",
    "for row in rows:\n",
    "    print(f\"user_id={row[0][0]}, date={row[0][1]}, fileType={row[0][2]}, file={row[0][3]}\")"
   ]
  },
  {
   "attachments": {},
   "cell_type": "markdown",
   "metadata": {},
   "source": [
    "#### retrieve_file functionality: Below is the functionality to retrieve theinformation of any file by its user id. We can do the follow action by selecting the record from our user database."
   ]
  },
  {
   "cell_type": "code",
   "execution_count": 29,
   "metadata": {},
   "outputs": [
    {
     "name": "stdout",
     "output_type": "stream",
     "text": [
      "user_id=2000, date=09092023, fileType=Image, file=file\n"
     ]
    }
   ],
   "source": [
    "#for example, if we want to search a file with user_id = 2000\n",
    "user_id_to_search = 2000;\n",
    "rows = session.execute(f\"\"\"select (user_id, date, fileType, file) from midtermpython.user WHERE user_id = {user_id_to_search}\"\"\")\n",
    "for row in rows:\n",
    "    print(f\"user_id={row[0][0]}, date={row[0][1]}, fileType={row[0][2]}, file={row[0][3]}\")\n"
   ]
  },
  {
   "cell_type": "markdown",
   "metadata": {
    "tags": []
   },
   "source": [
    "#### delete_file functionality: Below is the functionality to delete the file information of any file by its user id. We can do the follow action by delete statement the record from our user database."
   ]
  },
  {
   "cell_type": "code",
   "execution_count": 30,
   "metadata": {},
   "outputs": [
    {
     "name": "stdout",
     "output_type": "stream",
     "text": [
      "user_id=1009, date=10072023, fileType=file, file=Test\n",
      "user_id=1006, date=19042021, fileType=Image, file=Test\n",
      "user_id=1008, date=10062023, fileType=file, file=Test\n",
      "user_id=1011, date=10032023, fileType=Image, file=Test\n",
      "user_id=1004, date=01042023, fileType=video, file=Test\n",
      "user_id=1007, date=10042017, fileType=file, file=Test\n",
      "user_id=1005, date=11042021, fileType=Image, file=Test\n",
      "user_id=1001, date=10012023, fileType=Image, file=Test\n",
      "user_id=2000, date=09092023, fileType=Image, file=file\n",
      "user_id=1003, date=10032022, fileType=video, file=Test\n",
      "user_id=1002, date=10022023, fileType=video, file=Test\n",
      "user_id=1010, date=10112023, fileType=file, file=Test\n"
     ]
    }
   ],
   "source": [
    "user_id_to_deleted = 1000;\n",
    "rows = session.execute(f\"\"\"DELETE from midtermpython.user where user_id= {user_id_to_deleted}\"\"\")\n",
    "for row in rows:\n",
    "    print(f\"user_id={row[0][0]}, date={row[0][1]}, fileType={row[0][2]}, file={row[0][3]}\")\n",
    "rows = session.execute(\"select (user_id,date,fileType,file) from midtermpython.user\")\n",
    "\n",
    "#display records after deletion\n",
    "rows = session.execute(\"select (user_id, date, fileType, file) from midtermpython.user\")\n",
    "for row in rows:\n",
    "    print(f\"user_id={row[0][0]}, date={row[0][1]}, fileType={row[0][2]}, file={row[0][3]}\")\n",
    "\n",
    "# for row in rows:\n",
    "#     print(f\"deleted record is user_id={row[0][0]}, date={row[0][1]}, fileType={row[0][2]}, file={row[0][3]}\")\n"
   ]
  }
 ],
 "metadata": {
  "kernelspec": {
   "display_name": "base",
   "language": "python",
   "name": "python3"
  },
  "language_info": {
   "codemirror_mode": {
    "name": "ipython",
    "version": 3
   },
   "file_extension": ".py",
   "mimetype": "text/x-python",
   "name": "python",
   "nbconvert_exporter": "python",
   "pygments_lexer": "ipython3",
   "version": "3.10.13"
  },
  "orig_nbformat": 4,
  "vscode": {
   "interpreter": {
    "hash": "c774f5f42cb3e70515ef7cb909d9051370cc09a28b296d74902002ebc2249cb4"
   }
  }
 },
 "nbformat": 4,
 "nbformat_minor": 2
}
